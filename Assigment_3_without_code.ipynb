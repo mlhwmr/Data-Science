{
 "cells": [
  {
   "cell_type": "code",
   "execution_count": 1,
   "metadata": {},
   "outputs": [],
   "source": [
    "import pandas as pd\n",
    "import numpy as np\n",
    "import matplotlib.pyplot as plt\n",
    "from matplotlib import cm\n",
    "\n",
    "house_df = pd.read_csv(\"/home/user/Pulpit/pani_ela_data_science/temat2/kc_house_data/kc_house_data.csv\")"
   ]
  },
  {
   "cell_type": "markdown",
   "metadata": {},
   "source": [
    "## 1. Linear Regression. A bit of formalism"
   ]
  },
  {
   "cell_type": "markdown",
   "metadata": {},
   "source": [
    "Let's have a data consisting of $n$ samples. These samples are $(m+1)$ - dimensional vectors, where first $m$ dimensions are called features (explanatory variables) and will be used to predict the last dimension which is called regressand (dependent variable). \n",
    "\n",
    "We will have therefore a $n \\times m$ matrix **$X$** (called feature matrix) and vector **$y$** of lenght $n$. \n",
    "\n",
    "In our simple example, living squarefeet is a feature, house's price is regressand and the data consists of $100$ samples. It forms $100 \\times 1$ feature matrix **$X$** and vector **$y$** of length $100$."
   ]
  },
  {
   "cell_type": "code",
   "execution_count": 2,
   "metadata": {},
   "outputs": [
    {
     "name": "stdout",
     "output_type": "stream",
     "text": [
      "(100, 1)\n",
      "(100, 1)\n"
     ]
    }
   ],
   "source": [
    "X = house_df.sqft_living.values.reshape(-1,1)[:100]\n",
    "y = house_df.price.values.reshape(-1,1)[:100]\n",
    "price = house_df.price.values.reshape(-1,1)[:100]\n",
    "print(np.shape(X))\n",
    "print(np.shape(y))"
   ]
  },
  {
   "cell_type": "markdown",
   "metadata": {},
   "source": [
    "Linear regression approach tries to find a vector **$b$** which minimizes the cost function \n",
    "\n",
    "$$f_{y}(b) = \\dfrac{|Xb - y|^2}{n}, $$\n",
    "\n",
    "where **$|\\cdot|$** is euclidean norm and **$Xb$** is simple matrix multiplication (vector is also a matrix). \n",
    "\n",
    "Geometrically (and roughly) speaking, we are determining a line which minimizes the cumulative distance to all the points. \n",
    "\n",
    "When such a vector **$b$** is found, we can predict values **$y$** for given features **$X$** by calculating **$Xb$**. We have therefore \n",
    "\n",
    "$$y_{pred} = Xb, \\\\ f_{y}(b) = \\dfrac{|y_{pred} - y|^2}{n}. $$"
   ]
  },
  {
   "cell_type": "markdown",
   "metadata": {},
   "source": [
    "## Exercise 1\n",
    "a) Create functions *predict(b, X)* and *cost(y_pred, y_true)* implementing theory above.  All inputs should be numpy arrays (take care of dimension scalability!)  \n",
    "b) For our data **$X,y$**, plot cost as the function of **$b$** (which is one dimensional vector). Plot the line with best slope among  evaluated with *cost* function."
   ]
  },
  {
   "cell_type": "code",
   "execution_count": 3,
   "metadata": {},
   "outputs": [],
   "source": [
    "# Use cases of np.dot()\n",
    "\n",
    "# 1. In case of 1D arrays - a simple matrix multiplication\n",
    "# We do not have to care about transforming one array to a column befor passing it as a parameter to dot funcion\n",
    "#a = np.array([1,2])\n",
    "#b = np.array([2,3])\n",
    "#np.dot(a,b)\n",
    "# Out:8\n",
    "\n",
    "# 2. N-dim arrays: r also simple matrix multiplication\n",
    "#a = np.array([[1,2,3],[2,3,4]])\n",
    "#b = np.array([[1,2],[2,3],[3,4]])\n",
    "#np.dot(a,b)\n",
    "# Out: array([[14, 20],\n",
    "#       [20, 29]])\n",
    "\n",
    "# 3. Weights (for 3 features)\n",
    "#w = np.array([2,2,2]) # weights for consectuive features (wf1,wf2,wf3)\n",
    "#features = np.array([[1,1,1],[2,2,2],[3,3,3]])\n",
    "#np.dot(features,w) # ATTENTION PLEASE! Order of multiplication has a meaning.\n",
    "# Out: array([ 6, 12, 18])\n",
    "\n",
    "# 4. Case: column form\n",
    "#features = np.array([[1,2],[2,2],[3,2]]) # 3 observations with 2 features each\n",
    "#w = np.array([[2],[2]])  # OR w = np.array([2,2])\n",
    "#np.dot(features,w) # odwrotnej kolejnosci nie dziala\n",
    "# Out: array([[ 6],\n",
    "#             [ 8],\n",
    "#            [10]]) # OR array([ 6,  8, 10])\n",
    "\n",
    "#-------------------------------------------------------------\n",
    "# 1. Substracting corresponding elements form two arrays\n",
    "#a = np.array([1,2,3,4,5])\n",
    "#b = np.array([2,2,2,2,2])\n",
    "#sum(abs(a-b)) # Out: 7\n",
    "# Out: array([1,  0,  1,  2,  3]) # abs(a-b)\n",
    "\n",
    "# Case: one feature\n",
    "#features = np.array([[1],[2],[3]]) # 3 observations with 1 features each\n",
    "#w = np.array([[2]])\n",
    "#np.dot(features,w)"
   ]
  },
  {
   "cell_type": "code",
   "execution_count": null,
   "metadata": {},
   "outputs": [],
   "source": []
  },
  {
   "cell_type": "code",
   "execution_count": 4,
   "metadata": {},
   "outputs": [
    {
     "name": "stdout",
     "output_type": "stream",
     "text": [
      "[[ 6]\n",
      " [11]\n",
      " [12]\n",
      " [16]]\n",
      "82.75\n"
     ]
    }
   ],
   "source": [
    "#a)\n",
    "#X = house_df.sqft_living.values.reshape(-1,1)[:100]\n",
    "#y = house_df.price.values.reshape(-1,1)[:100]\n",
    "# np.shape(X) = np.shape(y) = (100,1) # column form\n",
    "\n",
    "def predict(b, X):\n",
    "    \"\"\"\n",
    "    Parameters:\n",
    "    ------------\n",
    "    b - np.array 1 x m # dim checked\n",
    "    X - np.array n x m\n",
    "    \n",
    "    Returns:\n",
    "    ----------\n",
    "    y - np.array : vactor of predictions for each row(point) in a dataset\n",
    "    \"\"\"\n",
    "    return np.dot(X,b)\n",
    "\n",
    "def cost(y_pred, y_true):\n",
    "    # I guess that summetion is missed in above formula for cost\n",
    "    n = len(y_true)\n",
    "    return (sum((abs(y_pred - y_true)**2))/n)[0] # each one squared and then sum\n",
    "\n",
    "\n",
    "\n",
    "#short test:\n",
    "test_b = np.array([[1],[1],[1]])\n",
    "test_X = np.array([[1,2,3],[2,5,4],[3,4,5],[4,5,7]]) # 3 features, 4 observations\n",
    "test_y = np.array([[1],[2],[3],[4]])\n",
    "\n",
    "print(predict(test_b, test_X))\n",
    "print(cost(predict(test_b, test_X),test_y))"
   ]
  },
  {
   "cell_type": "code",
   "execution_count": 5,
   "metadata": {},
   "outputs": [],
   "source": [
    "#b) For our data  X,y , plot cost as the function of  b  (which is one dimensional vector). \n",
    "#   Plot the line with best slope among evaluated with cost function.\n",
    "\n",
    "# We examine error as a function of weight assigned to given feature(in this case sqft_living)\n",
    "\n",
    "# 1. Preparation for the first plot\n",
    "# First we have to make up a vactor of proposed weights.\n",
    "b = np.linspace(-1000,1000, num= 2001).reshape(-1,1)\n",
    "\n",
    "#len(b) #2001"
   ]
  },
  {
   "cell_type": "code",
   "execution_count": 6,
   "metadata": {},
   "outputs": [
    {
     "data": {
      "text/plain": [
       "2001"
      ]
     },
     "execution_count": 6,
     "metadata": {},
     "output_type": "execute_result"
    }
   ],
   "source": [
    "y_pred = []\n",
    "for bi in b:\n",
    "    y_pred.append( predict(bi, X) )\n",
    "\n",
    "#len(y_pred) # 2001\n",
    "len(y_pred)"
   ]
  },
  {
   "cell_type": "code",
   "execution_count": 7,
   "metadata": {},
   "outputs": [],
   "source": [
    "errors = [] # because we are calculating error for all possible b\n",
    "for i in y_pred:\n",
    "    mse = cost(i, y)\n",
    "    errors.append(mse)\n",
    "    \n",
    "#len(b) # 2001"
   ]
  },
  {
   "cell_type": "code",
   "execution_count": 8,
   "metadata": {},
   "outputs": [],
   "source": [
    "# 2. Preparation for the second plot\n",
    "# First we have to find b for wih mse is the smallest.\n",
    "# We can do this either analytically or numerically using Gradient Descent algorithm"
   ]
  },
  {
   "cell_type": "code",
   "execution_count": 204,
   "metadata": {},
   "outputs": [],
   "source": [
    "cur_b = 1000 # The algorithm starts at x=3\n",
    "rate = 0.000001 # Learning rate # for such a high values it was a crucial parameter\n",
    "precision = 0.00001 #This tells us when to stop the algorithm\n",
    "previous_step_size = 1 # ustalamy jakikolwiek(rozsądnie) na początek, a ogólnie jest po różnica między\n",
    "                       # x uzyskanymi w kolejnych iteracjach\n",
    "max_iters = 10000 # maximum number of iterations \n",
    "iters = 0 #iteration counter\n",
    "df = lambda b: 2*sum(predict(b, X)-y)[0] # this allows for a continuous input,\n",
    "# However as far as ploting function is concerned it must be always done with linspace for input\n",
    "\n",
    "while previous_step_size > precision and iters < max_iters: # dopóki krok nie będzie naprawde malutki\n",
    "    prev_b = cur_b #Store current x value in prev_x\n",
    "    cur_b = cur_b - rate * df(prev_b) #Grad descent\n",
    "    previous_step_size = abs(cur_b - prev_b) #Change in x\n",
    "    iters = iters+1 #iteration count\n",
    "    #print(\"Iteration\",iters,\"\\nMSE value is\",cur_b) #Print iterations\n",
    "    \n",
    "#print(\"The local minimum occurs at\", cur_b)"
   ]
  },
  {
   "cell_type": "code",
   "execution_count": 10,
   "metadata": {},
   "outputs": [],
   "source": [
    "# Gradient Descent constatnty points on the same value 248, as a b for a minimal MSE(mse = 53172279722.05)"
   ]
  },
  {
   "cell_type": "code",
   "execution_count": 11,
   "metadata": {},
   "outputs": [
    {
     "data": {
      "text/plain": [
       "174141967277.25"
      ]
     },
     "execution_count": 11,
     "metadata": {},
     "output_type": "execute_result"
    }
   ],
   "source": [
    "b = 400\n",
    "y_pred = predict(b, X)\n",
    "mse = cost(y_pred, y)\n",
    "mse"
   ]
  },
  {
   "cell_type": "code",
   "execution_count": 12,
   "metadata": {},
   "outputs": [
    {
     "data": {
      "text/plain": [
       "True"
      ]
     },
     "execution_count": 12,
     "metadata": {},
     "output_type": "execute_result"
    }
   ],
   "source": [
    "53172279722.05<174141967277.25"
   ]
  },
  {
   "cell_type": "code",
   "execution_count": 13,
   "metadata": {},
   "outputs": [],
   "source": [
    "# Indeed, it looks as if Gradient Descent were right.\n",
    "# Why is that?"
   ]
  },
  {
   "cell_type": "code",
   "execution_count": 14,
   "metadata": {},
   "outputs": [],
   "source": [
    "# Let's find out what is a value of b given by closed form solution."
   ]
  },
  {
   "cell_type": "code",
   "execution_count": 15,
   "metadata": {},
   "outputs": [
    {
     "data": {
      "text/plain": [
       "245.91180485842114"
      ]
     },
     "execution_count": 15,
     "metadata": {},
     "output_type": "execute_result"
    }
   ],
   "source": [
    "from numpy.linalg import inv\n",
    "b_closed = inv(X.transpose().dot(X)).dot(X.transpose()).dot(y)\n",
    "b_opt = b_closed[0][0]\n",
    "b_opt"
   ]
  },
  {
   "cell_type": "code",
   "execution_count": 16,
   "metadata": {},
   "outputs": [],
   "source": [
    "# This proves SGD almost right. \n",
    "# So, there's something wrong with a plot.\n",
    "# This time I chcked all lengths.\n",
    "# From this plot it looks as if MSE was calculated wrongly but it is not the case since SGD and closed form solution\n",
    "# are consistent with result provided in the answer notebook.\n",
    "# So there is sth wrong solely with plotting. But for now I am at the and of the rope.\n",
    "# maybe play with xlim, ylim"
   ]
  },
  {
   "cell_type": "code",
   "execution_count": 17,
   "metadata": {},
   "outputs": [
    {
     "data": {
      "text/plain": [
       "array([1, 1])"
      ]
     },
     "execution_count": 17,
     "metadata": {},
     "output_type": "execute_result"
    }
   ],
   "source": [
    "x = np.array([[1],[1]])\n",
    "x.reshape(-1)"
   ]
  },
  {
   "cell_type": "code",
   "execution_count": null,
   "metadata": {},
   "outputs": [],
   "source": []
  },
  {
   "cell_type": "code",
   "execution_count": 206,
   "metadata": {},
   "outputs": [
    {
     "data": {
      "text/plain": [
       "<Figure size 1008x360 with 0 Axes>"
      ]
     },
     "metadata": {},
     "output_type": "display_data"
    },
    {
     "data": {
      "image/png": "[encoded data removed]",
      "text/plain": [
       "<Figure size 1080x864 with 2 Axes>"
      ]
     },
     "metadata": {
      "needs_background": "light"
     },
     "output_type": "display_data"
    }
   ],
   "source": [
    "b_arr = np.linspace(-1000,1000, num= 2001).reshape(-1,1)\n",
    "X = house_df.sqft_living.values.reshape(-1,1)[:100]\n",
    "y = house_df.price.values.reshape(-1,1)[:100]\n",
    "\n",
    "plt.figure(figsize=(14, 5))\n",
    "fig, axes = plt.subplots(nrows=2, ncols=1,figsize=(15,12))\n",
    "\n",
    "ax1 = plt.subplot(2,1,1)\n",
    "\n",
    "cost_arr = [cost(predict(b,X),y) for b in b_arr]\n",
    "plt.plot(b_arr,cost_arr)\n",
    "#plt.plot(b, errors)\n",
    "plt.xlabel('b1(slope)')\n",
    "plt.ylabel('mean quared error')\n",
    "\n",
    "#   Plot the line with best slope among evaluated with cost function.\n",
    "# It means we have to choose slope that minimizes cost function\n",
    "ax2 = plt.subplot(2,1,2)\n",
    "price = house_df.price.values.reshape(-1,1)[:100]\n",
    "plt.scatter(X, price)\n",
    "# finding minimum b\n",
    "#x2= linspace(0,5000, num = 10000) # i bet it should be done solely with xlim or sth\n",
    "y2 = [predict(i,b_opt) for i in X] \n",
    "\n",
    "#import scipy.interpolate as sp\n",
    "#new_X = np.linspace(np.min(X), np.max(X), 2001)\n",
    "#pl_spline = sp.InterpolatedUnivariateSpline(X, y, k=1);\n",
    "#y_new = pl_spline(new_X)\n",
    "#smooth_spline = sp.InterpolatedUnivariateSpline(new_X, y_new, k=3)\n",
    "\n",
    "plt.plot(X, y2)\n",
    "ax2.legend(['A simple line'])\n",
    "# interp1d works if we have function\n",
    "# And this is it - a problem of plotting continuous function while having limited x-axis data\n",
    "plt.xlabel('price')\n",
    "plt.ylabel('sqft living') # add thi sth which is not a legend\n",
    "\n",
    "plt.tight_layout()\n",
    "plt.show()"
   ]
  },
  {
   "cell_type": "markdown",
   "metadata": {},
   "source": [
    "# 2. Bias\n",
    "\n",
    "The line above has limitation of crossing point (0,0). As on our data it doesn't seem harmful, let us check how our model would perform, if all $y$ were shifted by some constant. The interpretation is as follows: the goverment has imposed a new tax in the set amount of 1 million dollar on buying new houses."
   ]
  },
  {
   "cell_type": "code",
   "execution_count": 19,
   "metadata": {},
   "outputs": [],
   "source": [
    "y2 = y + 1000000"
   ]
  },
  {
   "cell_type": "code",
   "execution_count": 207,
   "metadata": {},
   "outputs": [
    {
     "ename": "ValueError",
     "evalue": "shapes (100,1) and (2,) not aligned: 1 (dim 1) != 2 (dim 0)",
     "output_type": "error",
     "traceback": [
      "\u001b[0;31m---------------------------------------------------------------------------\u001b[0m",
      "\u001b[0;31mValueError\u001b[0m                                Traceback (most recent call last)",
      "\u001b[0;32m<ipython-input-207-ec184aeda074>\u001b[0m in \u001b[0;36m<module>\u001b[0;34m\u001b[0m\n\u001b[1;32m      1\u001b[0m \u001b[0my_pred2\u001b[0m \u001b[0;34m=\u001b[0m \u001b[0;34m[\u001b[0m\u001b[0;34m]\u001b[0m\u001b[0;34m\u001b[0m\u001b[0m\n\u001b[1;32m      2\u001b[0m \u001b[0;32mfor\u001b[0m \u001b[0mbi\u001b[0m \u001b[0;32min\u001b[0m \u001b[0mb\u001b[0m\u001b[0;34m:\u001b[0m\u001b[0;34m\u001b[0m\u001b[0m\n\u001b[0;32m----> 3\u001b[0;31m     \u001b[0my_pred2\u001b[0m\u001b[0;34m.\u001b[0m\u001b[0mappend\u001b[0m\u001b[0;34m(\u001b[0m \u001b[0mpredict\u001b[0m\u001b[0;34m(\u001b[0m\u001b[0mbi\u001b[0m\u001b[0;34m,\u001b[0m \u001b[0mX\u001b[0m\u001b[0;34m)\u001b[0m \u001b[0;34m)\u001b[0m\u001b[0;34m\u001b[0m\u001b[0m\n\u001b[0m\u001b[1;32m      4\u001b[0m \u001b[0;34m\u001b[0m\u001b[0m\n\u001b[1;32m      5\u001b[0m \u001b[0mlen\u001b[0m\u001b[0;34m(\u001b[0m\u001b[0my_pred2\u001b[0m\u001b[0;34m)\u001b[0m\u001b[0;34m\u001b[0m\u001b[0m\n",
      "\u001b[0;32m<ipython-input-4-7949d2eac3cc>\u001b[0m in \u001b[0;36mpredict\u001b[0;34m(b, X)\u001b[0m\n\u001b[1;32m     15\u001b[0m     \u001b[0my\u001b[0m \u001b[0;34m-\u001b[0m \u001b[0mnp\u001b[0m\u001b[0;34m.\u001b[0m\u001b[0marray\u001b[0m \u001b[0;34m:\u001b[0m \u001b[0mvactor\u001b[0m \u001b[0mof\u001b[0m \u001b[0mpredictions\u001b[0m \u001b[0;32mfor\u001b[0m \u001b[0meach\u001b[0m \u001b[0mrow\u001b[0m\u001b[0;34m(\u001b[0m\u001b[0mpoint\u001b[0m\u001b[0;34m)\u001b[0m \u001b[0;32min\u001b[0m \u001b[0ma\u001b[0m \u001b[0mdataset\u001b[0m\u001b[0;34m\u001b[0m\u001b[0m\n\u001b[1;32m     16\u001b[0m     \"\"\"\n\u001b[0;32m---> 17\u001b[0;31m     \u001b[0;32mreturn\u001b[0m \u001b[0mnp\u001b[0m\u001b[0;34m.\u001b[0m\u001b[0mdot\u001b[0m\u001b[0;34m(\u001b[0m\u001b[0mX\u001b[0m\u001b[0;34m,\u001b[0m\u001b[0mb\u001b[0m\u001b[0;34m)\u001b[0m\u001b[0;34m\u001b[0m\u001b[0m\n\u001b[0m\u001b[1;32m     18\u001b[0m \u001b[0;34m\u001b[0m\u001b[0m\n\u001b[1;32m     19\u001b[0m \u001b[0;32mdef\u001b[0m \u001b[0mcost\u001b[0m\u001b[0;34m(\u001b[0m\u001b[0my_pred\u001b[0m\u001b[0;34m,\u001b[0m \u001b[0my_true\u001b[0m\u001b[0;34m)\u001b[0m\u001b[0;34m:\u001b[0m\u001b[0;34m\u001b[0m\u001b[0m\n",
      "\u001b[0;32m<__array_function__ internals>\u001b[0m in \u001b[0;36mdot\u001b[0;34m(*args, **kwargs)\u001b[0m\n",
      "\u001b[0;31mValueError\u001b[0m: shapes (100,1) and (2,) not aligned: 1 (dim 1) != 2 (dim 0)"
     ]
    }
   ],
   "source": [
    "y_pred2 = []\n",
    "for bi in b:\n",
    "    y_pred2.append( predict(bi, X) )\n",
    "    \n",
    "len(y_pred2)"
   ]
  },
  {
   "cell_type": "code",
   "execution_count": 209,
   "metadata": {},
   "outputs": [],
   "source": [
    "errors2 = [] # because we are calculating error for all possible b\n",
    "for i in y_pred2:\n",
    "    mse = cost(i, y2)\n",
    "    errors2.append(mse)"
   ]
  },
  {
   "cell_type": "code",
   "execution_count": 210,
   "metadata": {},
   "outputs": [
    {
     "data": {
      "text/plain": [
       "array([[245.91180486]])"
      ]
     },
     "execution_count": 210,
     "metadata": {},
     "output_type": "execute_result"
    }
   ],
   "source": [
    "# We have to calculate new b_opt\n",
    "b_closed2 = inv(X.transpose().dot(X)).dot(X.transpose()).dot(y2)\n",
    "b_opt2 = b_closed2[0][0]\n",
    "#b_closed2 = b_closed2[1][0]\n",
    "b_closed2"
   ]
  },
  {
   "cell_type": "code",
   "execution_count": 211,
   "metadata": {},
   "outputs": [
    {
     "data": {
      "text/plain": [
       "0"
      ]
     },
     "execution_count": 211,
     "metadata": {},
     "output_type": "execute_result"
    }
   ],
   "source": [
    "b = np.linspace(-1000,1000, num= 2001).reshape(-1,1)\n",
    "len(errors2)"
   ]
  },
  {
   "cell_type": "code",
   "execution_count": null,
   "metadata": {},
   "outputs": [],
   "source": []
  },
  {
   "cell_type": "code",
   "execution_count": 212,
   "metadata": {},
   "outputs": [
    {
     "ename": "ValueError",
     "evalue": "x and y must have same first dimension, but have shapes (2001,) and (0,)",
     "output_type": "error",
     "traceback": [
      "\u001b[0;31m---------------------------------------------------------------------------\u001b[0m",
      "\u001b[0;31mValueError\u001b[0m                                Traceback (most recent call last)",
      "\u001b[0;32m<ipython-input-212-02f2f710328f>\u001b[0m in \u001b[0;36m<module>\u001b[0;34m\u001b[0m\n\u001b[1;32m     12\u001b[0m \u001b[0;34m\u001b[0m\u001b[0m\n\u001b[1;32m     13\u001b[0m \u001b[0max1\u001b[0m \u001b[0;34m=\u001b[0m \u001b[0mplt\u001b[0m\u001b[0;34m.\u001b[0m\u001b[0msubplot\u001b[0m\u001b[0;34m(\u001b[0m\u001b[0;36m2\u001b[0m\u001b[0;34m,\u001b[0m\u001b[0;36m1\u001b[0m\u001b[0;34m,\u001b[0m\u001b[0;36m1\u001b[0m\u001b[0;34m)\u001b[0m\u001b[0;34m\u001b[0m\u001b[0m\n\u001b[0;32m---> 14\u001b[0;31m \u001b[0mplt\u001b[0m\u001b[0;34m.\u001b[0m\u001b[0mplot\u001b[0m\u001b[0;34m(\u001b[0m\u001b[0mb\u001b[0m\u001b[0;34m,\u001b[0m \u001b[0merrors2\u001b[0m\u001b[0;34m)\u001b[0m\u001b[0;34m\u001b[0m\u001b[0m\n\u001b[0m\u001b[1;32m     15\u001b[0m \u001b[0;31m#\"\"\"\u001b[0m\u001b[0;34m\u001b[0m\u001b[0;34m\u001b[0m\u001b[0m\n\u001b[1;32m     16\u001b[0m \u001b[0mplt\u001b[0m\u001b[0;34m.\u001b[0m\u001b[0mxlabel\u001b[0m\u001b[0;34m(\u001b[0m\u001b[0;34m'b1(slope)'\u001b[0m\u001b[0;34m)\u001b[0m\u001b[0;34m\u001b[0m\u001b[0m\n",
      "\u001b[0;32m~/anaconda3/envs/tensorflow/lib/python3.6/site-packages/matplotlib/pyplot.py\u001b[0m in \u001b[0;36mplot\u001b[0;34m(scalex, scaley, data, *args, **kwargs)\u001b[0m\n\u001b[1;32m   2793\u001b[0m     return gca().plot(\n\u001b[1;32m   2794\u001b[0m         *args, scalex=scalex, scaley=scaley, **({\"data\": data} if data\n\u001b[0;32m-> 2795\u001b[0;31m         is not None else {}), **kwargs)\n\u001b[0m\u001b[1;32m   2796\u001b[0m \u001b[0;34m\u001b[0m\u001b[0m\n\u001b[1;32m   2797\u001b[0m \u001b[0;34m\u001b[0m\u001b[0m\n",
      "\u001b[0;32m~/anaconda3/envs/tensorflow/lib/python3.6/site-packages/matplotlib/axes/_axes.py\u001b[0m in \u001b[0;36mplot\u001b[0;34m(self, scalex, scaley, data, *args, **kwargs)\u001b[0m\n\u001b[1;32m   1664\u001b[0m         \"\"\"\n\u001b[1;32m   1665\u001b[0m         \u001b[0mkwargs\u001b[0m \u001b[0;34m=\u001b[0m \u001b[0mcbook\u001b[0m\u001b[0;34m.\u001b[0m\u001b[0mnormalize_kwargs\u001b[0m\u001b[0;34m(\u001b[0m\u001b[0mkwargs\u001b[0m\u001b[0;34m,\u001b[0m \u001b[0mmlines\u001b[0m\u001b[0;34m.\u001b[0m\u001b[0mLine2D\u001b[0m\u001b[0;34m.\u001b[0m\u001b[0m_alias_map\u001b[0m\u001b[0;34m)\u001b[0m\u001b[0;34m\u001b[0m\u001b[0m\n\u001b[0;32m-> 1666\u001b[0;31m         \u001b[0mlines\u001b[0m \u001b[0;34m=\u001b[0m \u001b[0;34m[\u001b[0m\u001b[0;34m*\u001b[0m\u001b[0mself\u001b[0m\u001b[0;34m.\u001b[0m\u001b[0m_get_lines\u001b[0m\u001b[0;34m(\u001b[0m\u001b[0;34m*\u001b[0m\u001b[0margs\u001b[0m\u001b[0;34m,\u001b[0m \u001b[0mdata\u001b[0m\u001b[0;34m=\u001b[0m\u001b[0mdata\u001b[0m\u001b[0;34m,\u001b[0m \u001b[0;34m**\u001b[0m\u001b[0mkwargs\u001b[0m\u001b[0;34m)\u001b[0m\u001b[0;34m]\u001b[0m\u001b[0;34m\u001b[0m\u001b[0m\n\u001b[0m\u001b[1;32m   1667\u001b[0m         \u001b[0;32mfor\u001b[0m \u001b[0mline\u001b[0m \u001b[0;32min\u001b[0m \u001b[0mlines\u001b[0m\u001b[0;34m:\u001b[0m\u001b[0;34m\u001b[0m\u001b[0m\n\u001b[1;32m   1668\u001b[0m             \u001b[0mself\u001b[0m\u001b[0;34m.\u001b[0m\u001b[0madd_line\u001b[0m\u001b[0;34m(\u001b[0m\u001b[0mline\u001b[0m\u001b[0;34m)\u001b[0m\u001b[0;34m\u001b[0m\u001b[0m\n",
      "\u001b[0;32m~/anaconda3/envs/tensorflow/lib/python3.6/site-packages/matplotlib/axes/_base.py\u001b[0m in \u001b[0;36m__call__\u001b[0;34m(self, *args, **kwargs)\u001b[0m\n\u001b[1;32m    223\u001b[0m                 \u001b[0mthis\u001b[0m \u001b[0;34m+=\u001b[0m \u001b[0margs\u001b[0m\u001b[0;34m[\u001b[0m\u001b[0;36m0\u001b[0m\u001b[0;34m]\u001b[0m\u001b[0;34m,\u001b[0m\u001b[0;34m\u001b[0m\u001b[0m\n\u001b[1;32m    224\u001b[0m                 \u001b[0margs\u001b[0m \u001b[0;34m=\u001b[0m \u001b[0margs\u001b[0m\u001b[0;34m[\u001b[0m\u001b[0;36m1\u001b[0m\u001b[0;34m:\u001b[0m\u001b[0;34m]\u001b[0m\u001b[0;34m\u001b[0m\u001b[0m\n\u001b[0;32m--> 225\u001b[0;31m             \u001b[0;32myield\u001b[0m \u001b[0;32mfrom\u001b[0m \u001b[0mself\u001b[0m\u001b[0;34m.\u001b[0m\u001b[0m_plot_args\u001b[0m\u001b[0;34m(\u001b[0m\u001b[0mthis\u001b[0m\u001b[0;34m,\u001b[0m \u001b[0mkwargs\u001b[0m\u001b[0;34m)\u001b[0m\u001b[0;34m\u001b[0m\u001b[0m\n\u001b[0m\u001b[1;32m    226\u001b[0m \u001b[0;34m\u001b[0m\u001b[0m\n\u001b[1;32m    227\u001b[0m     \u001b[0;32mdef\u001b[0m \u001b[0mget_next_color\u001b[0m\u001b[0;34m(\u001b[0m\u001b[0mself\u001b[0m\u001b[0;34m)\u001b[0m\u001b[0;34m:\u001b[0m\u001b[0;34m\u001b[0m\u001b[0m\n",
      "\u001b[0;32m~/anaconda3/envs/tensorflow/lib/python3.6/site-packages/matplotlib/axes/_base.py\u001b[0m in \u001b[0;36m_plot_args\u001b[0;34m(self, tup, kwargs)\u001b[0m\n\u001b[1;32m    389\u001b[0m             \u001b[0mx\u001b[0m\u001b[0;34m,\u001b[0m \u001b[0my\u001b[0m \u001b[0;34m=\u001b[0m \u001b[0mindex_of\u001b[0m\u001b[0;34m(\u001b[0m\u001b[0mtup\u001b[0m\u001b[0;34m[\u001b[0m\u001b[0;34m-\u001b[0m\u001b[0;36m1\u001b[0m\u001b[0;34m]\u001b[0m\u001b[0;34m)\u001b[0m\u001b[0;34m\u001b[0m\u001b[0m\n\u001b[1;32m    390\u001b[0m \u001b[0;34m\u001b[0m\u001b[0m\n\u001b[0;32m--> 391\u001b[0;31m         \u001b[0mx\u001b[0m\u001b[0;34m,\u001b[0m \u001b[0my\u001b[0m \u001b[0;34m=\u001b[0m \u001b[0mself\u001b[0m\u001b[0;34m.\u001b[0m\u001b[0m_xy_from_xy\u001b[0m\u001b[0;34m(\u001b[0m\u001b[0mx\u001b[0m\u001b[0;34m,\u001b[0m \u001b[0my\u001b[0m\u001b[0;34m)\u001b[0m\u001b[0;34m\u001b[0m\u001b[0m\n\u001b[0m\u001b[1;32m    392\u001b[0m \u001b[0;34m\u001b[0m\u001b[0m\n\u001b[1;32m    393\u001b[0m         \u001b[0;32mif\u001b[0m \u001b[0mself\u001b[0m\u001b[0;34m.\u001b[0m\u001b[0mcommand\u001b[0m \u001b[0;34m==\u001b[0m \u001b[0;34m'plot'\u001b[0m\u001b[0;34m:\u001b[0m\u001b[0;34m\u001b[0m\u001b[0m\n",
      "\u001b[0;32m~/anaconda3/envs/tensorflow/lib/python3.6/site-packages/matplotlib/axes/_base.py\u001b[0m in \u001b[0;36m_xy_from_xy\u001b[0;34m(self, x, y)\u001b[0m\n\u001b[1;32m    268\u001b[0m         \u001b[0;32mif\u001b[0m \u001b[0mx\u001b[0m\u001b[0;34m.\u001b[0m\u001b[0mshape\u001b[0m\u001b[0;34m[\u001b[0m\u001b[0;36m0\u001b[0m\u001b[0;34m]\u001b[0m \u001b[0;34m!=\u001b[0m \u001b[0my\u001b[0m\u001b[0;34m.\u001b[0m\u001b[0mshape\u001b[0m\u001b[0;34m[\u001b[0m\u001b[0;36m0\u001b[0m\u001b[0;34m]\u001b[0m\u001b[0;34m:\u001b[0m\u001b[0;34m\u001b[0m\u001b[0m\n\u001b[1;32m    269\u001b[0m             raise ValueError(\"x and y must have same first dimension, but \"\n\u001b[0;32m--> 270\u001b[0;31m                              \"have shapes {} and {}\".format(x.shape, y.shape))\n\u001b[0m\u001b[1;32m    271\u001b[0m         \u001b[0;32mif\u001b[0m \u001b[0mx\u001b[0m\u001b[0;34m.\u001b[0m\u001b[0mndim\u001b[0m \u001b[0;34m>\u001b[0m \u001b[0;36m2\u001b[0m \u001b[0;32mor\u001b[0m \u001b[0my\u001b[0m\u001b[0;34m.\u001b[0m\u001b[0mndim\u001b[0m \u001b[0;34m>\u001b[0m \u001b[0;36m2\u001b[0m\u001b[0;34m:\u001b[0m\u001b[0;34m\u001b[0m\u001b[0m\n\u001b[1;32m    272\u001b[0m             raise ValueError(\"x and y can be no greater than 2-D, but have \"\n",
      "\u001b[0;31mValueError\u001b[0m: x and y must have same first dimension, but have shapes (2001,) and (0,)"
     ]
    },
    {
     "data": {
      "text/plain": [
       "<Figure size 1008x360 with 0 Axes>"
      ]
     },
     "metadata": {},
     "output_type": "display_data"
    },
    {
     "data": {
      "image/png": "[encoded data removed]",
      "text/plain": [
       "<Figure size 1080x864 with 2 Axes>"
      ]
     },
     "metadata": {
      "needs_background": "light"
     },
     "output_type": "display_data"
    }
   ],
   "source": [
    "#if all  𝑦  were shifted by some constant. The interpretation is as follows:\n",
    "#the goverment has imposed a new tax in the set amount of 1 million dollar on buying new houses.\n",
    "b = np.linspace(-1000,1000, num= 2001) # .reshape(-1,1) to ten reshape psu᷆ ksztalt wykresu\n",
    "X = house_df.sqft_living.values.reshape(-1,1)[:100]\n",
    "y = house_df.price.values.reshape(-1,1)[:100]\n",
    "\n",
    "# It means that we should shift y (real y) - because it is the new real house price.\n",
    "\n",
    "plt.figure(figsize=(14, 5))\n",
    "fig, axes = plt.subplots(nrows=2, ncols=1,figsize=(15,12))\n",
    "\n",
    "\n",
    "ax1 = plt.subplot(2,1,1)\n",
    "plt.plot(b, errors2)\n",
    "#\"\"\"\n",
    "plt.xlabel('b1(slope)')\n",
    "plt.ylabel('mean quared error')\n",
    "\n",
    "#   Plot the line with best slope among evaluated with cost function.\n",
    "# It means we have to choose slope that minimizes cost function\n",
    "ax2 = plt.subplot(2,1,2)\n",
    "price = house_df.price.values.reshape(-1,1)[:100]\n",
    "#print(X.shape, (price+1000000).shape)\n",
    "plt.scatter(X, price+1000000)\n",
    "# finding minimum b\n",
    "ax2 = plt.subplot(2,1,2)\n",
    "price = house_df.price.values.reshape(-1,1)[:100] + 1000000\n",
    "#plt.scatter(X, price+1000000, color = 'blue')\n",
    "# finding minimum b\n",
    "#x2= linspace(0,5000, num = 10000) # i bet it should be done solely with xlim or sth\n",
    "y_new = [predict(i,b_opt2) for i in X] \n",
    "\n",
    "plt.plot(X, y_new)\n",
    "# And this is it - a problem of plotting continuous function while having limited x-axis data\n",
    "plt.ylabel('price + 1mln')\n",
    "plt.xlabel('sqft living') # add thi sth which is not a legend\n",
    "\n",
    "plt.tight_layout()\n",
    "plt.show() \n",
    "#\"\"\""
   ]
  },
  {
   "cell_type": "code",
   "execution_count": null,
   "metadata": {},
   "outputs": [],
   "source": [
    "# nie wracaj juz do tego wyzej - lepiej nie bedzie"
   ]
  },
  {
   "cell_type": "markdown",
   "metadata": {},
   "source": [
    "As we can see, for the best slope the error has grown almost by the factor of four. In addition we clearly see, that what limits us is indeed the constraint of all lines crossing point $(0,0)$.   \n",
    "\n",
    "There are two basic solutions of this problem. One of them is centring of the data, that is substracting overall mean from all the values of given feature (or regressand).  \n",
    "\n",
    "The other is adding bias term, which in this context (different than context discussed during the lectures!) may be understood as constant term in line equation. We simulate adding constant term to result of each prediction by appending artificial feature consisting of ones to **$X$** matrix and additional term to **$b$** vector.\n",
    "\n",
    "## Exercise 2\n",
    "a) Add bias column to the **$X$** matrix.  \n",
    "b) Make the code below compatible with functions that you've created so far."
   ]
  },
  {
   "cell_type": "code",
   "execution_count": 91,
   "metadata": {},
   "outputs": [
    {
     "data": {
      "text/plain": [
       "array([[1.],\n",
       "       [1.],\n",
       "       [1.],\n",
       "       [1.],\n",
       "       [1.],\n",
       "       [1.],\n",
       "       [1.],\n",
       "       [1.],\n",
       "       [1.],\n",
       "       [1.],\n",
       "       [1.],\n",
       "       [1.],\n",
       "       [1.],\n",
       "       [1.],\n",
       "       [1.],\n",
       "       [1.],\n",
       "       [1.],\n",
       "       [1.],\n",
       "       [1.],\n",
       "       [1.],\n",
       "       [1.],\n",
       "       [1.],\n",
       "       [1.],\n",
       "       [1.],\n",
       "       [1.],\n",
       "       [1.],\n",
       "       [1.],\n",
       "       [1.],\n",
       "       [1.],\n",
       "       [1.],\n",
       "       [1.],\n",
       "       [1.],\n",
       "       [1.],\n",
       "       [1.],\n",
       "       [1.],\n",
       "       [1.],\n",
       "       [1.],\n",
       "       [1.],\n",
       "       [1.],\n",
       "       [1.],\n",
       "       [1.],\n",
       "       [1.],\n",
       "       [1.],\n",
       "       [1.],\n",
       "       [1.],\n",
       "       [1.],\n",
       "       [1.],\n",
       "       [1.],\n",
       "       [1.],\n",
       "       [1.],\n",
       "       [1.],\n",
       "       [1.],\n",
       "       [1.],\n",
       "       [1.],\n",
       "       [1.],\n",
       "       [1.],\n",
       "       [1.],\n",
       "       [1.],\n",
       "       [1.],\n",
       "       [1.],\n",
       "       [1.],\n",
       "       [1.],\n",
       "       [1.],\n",
       "       [1.],\n",
       "       [1.],\n",
       "       [1.],\n",
       "       [1.],\n",
       "       [1.],\n",
       "       [1.],\n",
       "       [1.],\n",
       "       [1.],\n",
       "       [1.],\n",
       "       [1.],\n",
       "       [1.],\n",
       "       [1.],\n",
       "       [1.],\n",
       "       [1.],\n",
       "       [1.],\n",
       "       [1.],\n",
       "       [1.],\n",
       "       [1.],\n",
       "       [1.],\n",
       "       [1.],\n",
       "       [1.],\n",
       "       [1.],\n",
       "       [1.],\n",
       "       [1.],\n",
       "       [1.],\n",
       "       [1.],\n",
       "       [1.],\n",
       "       [1.],\n",
       "       [1.],\n",
       "       [1.],\n",
       "       [1.],\n",
       "       [1.],\n",
       "       [1.],\n",
       "       [1.],\n",
       "       [1.],\n",
       "       [1.],\n",
       "       [1.]])"
      ]
     },
     "execution_count": 91,
     "metadata": {},
     "output_type": "execute_result"
    }
   ],
   "source": [
    "#a)\n",
    "X = house_df.sqft_living.values.reshape(-1,1)[:100]\n",
    "n,m = X.shape # for generality\n",
    "X0 = np.ones((n,1))\n",
    "Xnew = np.hstack((X,X0))\n",
    "X = Xnew\n",
    "Xnew[1]\n",
    "X0"
   ]
  },
  {
   "cell_type": "code",
   "execution_count": null,
   "metadata": {},
   "outputs": [],
   "source": [
    "#b) # W tej czəsci zadania nalezalo po prostu dostosowac kod do poprzedniej czesci nb\n",
    "y_shifted = y+1e6\n",
    "\n",
    "#No Bias Part\n",
    "b_arr = [np.array(b1) for b1 in np.linspace(-1000, 1000, num=2001)] # ok\n",
    "cost_arr = [cost(predict(b, X[:,0]), y_shifted) for b in b_arr] # ok\n",
    "best_b1 = b_arr[np.argmin(cost_arr)] # good to know such a useful function exist\n",
    "\n",
    "\n",
    "#Bias Part\n",
    "nb_of_bs = 101 # compute the cost nb_of_bs times in each dimension\n",
    "b1 = np.linspace(-500, 2000, num=nb_of_bs) # slope coefficient\n",
    "b2 = np.linspace(-1e5, 3e6, num=nb_of_bs) # bias\n",
    "b_x, b_y = np.meshgrid(b1, b2) # generate grid\n",
    "cost_arr_2d = np.zeros((nb_of_bs, nb_of_bs)) # initialize cost matrix\n",
    "# grid with dimenstions (num_possible_slopes x num_possible_biases) but each of them has different limits"
   ]
  },
  {
   "cell_type": "code",
   "execution_count": null,
   "metadata": {},
   "outputs": [],
   "source": [
    "b_closed = inv(Xnew.transpose().dot(Xnew)).dot(Xnew.transpose()).dot(y)\n",
    "best_b1, best_b2 = b_closed[0], b_closed[1]"
   ]
  },
  {
   "cell_type": "code",
   "execution_count": null,
   "metadata": {},
   "outputs": [],
   "source": [
    "# Fill the cost matrix for each combination of coefficients\n",
    "for i in range(nb_of_bs):\n",
    "    for j in range(nb_of_bs):\n",
    "        cost_arr_2d[i,j] = cost( predict(np.array([[b_x[i,j]], [b_y[i,j]]]), X) , y_shifted)\n",
    "#np.array([[b_x[i,j]], [b_y[i,j]]]) - this is just matrix of weights np. [̧́[1],[1]] - weights means\n",
    "# coefficiens for consecutive powers or features\n",
    "\n",
    "# okej, we have just created predictions for all possible values of slope and bias.\n",
    "# At the beginning we set bias and slope ourselves. time for optimization will come of course."
   ]
  },
  {
   "cell_type": "code",
   "execution_count": 213,
   "metadata": {},
   "outputs": [
    {
     "ename": "NameError",
     "evalue": "name 'b_x' is not defined",
     "output_type": "error",
     "traceback": [
      "\u001b[0;31m---------------------------------------------------------------------------\u001b[0m",
      "\u001b[0;31mNameError\u001b[0m                                 Traceback (most recent call last)",
      "\u001b[0;32m<ipython-input-213-7cd780efc731>\u001b[0m in \u001b[0;36m<module>\u001b[0;34m\u001b[0m\n\u001b[1;32m      5\u001b[0m \u001b[0mplt\u001b[0m\u001b[0;34m.\u001b[0m\u001b[0mtitle\u001b[0m\u001b[0;34m(\u001b[0m\u001b[0;34m\"Cost heatmap for bias and slope\"\u001b[0m\u001b[0;34m)\u001b[0m\u001b[0;34m\u001b[0m\u001b[0m\n\u001b[1;32m      6\u001b[0m \u001b[0;34m\u001b[0m\u001b[0m\n\u001b[0;32m----> 7\u001b[0;31m \u001b[0mplt\u001b[0m\u001b[0;34m.\u001b[0m\u001b[0mcontourf\u001b[0m\u001b[0;34m(\u001b[0m\u001b[0mb_x\u001b[0m\u001b[0;34m,\u001b[0m \u001b[0mb_y\u001b[0m\u001b[0;34m,\u001b[0m \u001b[0mnp\u001b[0m\u001b[0;34m.\u001b[0m\u001b[0mlog\u001b[0m\u001b[0;34m(\u001b[0m\u001b[0mcost_arr_2d\u001b[0m\u001b[0;34m)\u001b[0m\u001b[0;34m,\u001b[0m \u001b[0;36m20\u001b[0m\u001b[0;34m,\u001b[0m \u001b[0malpha\u001b[0m\u001b[0;34m=\u001b[0m\u001b[0;36m0.9\u001b[0m\u001b[0;34m,\u001b[0m \u001b[0mcmap\u001b[0m\u001b[0;34m=\u001b[0m\u001b[0mcm\u001b[0m\u001b[0;34m.\u001b[0m\u001b[0mpink\u001b[0m\u001b[0;34m)\u001b[0m\u001b[0;34m\u001b[0m\u001b[0m\n\u001b[0m\u001b[1;32m      8\u001b[0m \u001b[0mcbar\u001b[0m \u001b[0;34m=\u001b[0m \u001b[0mplt\u001b[0m\u001b[0;34m.\u001b[0m\u001b[0mcolorbar\u001b[0m\u001b[0;34m(\u001b[0m\u001b[0;34m)\u001b[0m\u001b[0;34m\u001b[0m\u001b[0m\n\u001b[1;32m      9\u001b[0m \u001b[0mplt\u001b[0m\u001b[0;34m.\u001b[0m\u001b[0mscatter\u001b[0m\u001b[0;34m(\u001b[0m\u001b[0mbest_b1\u001b[0m\u001b[0;34m,\u001b[0m \u001b[0;36m0\u001b[0m\u001b[0;34m,\u001b[0m \u001b[0mlabel\u001b[0m \u001b[0;34m=\u001b[0m \u001b[0;34m\"Best solution without bias\"\u001b[0m\u001b[0;34m)\u001b[0m\u001b[0;34m\u001b[0m\u001b[0m\n",
      "\u001b[0;31mNameError\u001b[0m: name 'b_x' is not defined"
     ]
    },
    {
     "data": {
      "image/png": "[encoded data removed]",
      "text/plain": [
       "<Figure size 1080x1440 with 1 Axes>"
      ]
     },
     "metadata": {
      "needs_background": "light"
     },
     "output_type": "display_data"
    }
   ],
   "source": [
    "# I can see no incompatibilitiesin this code. All my functions work fine with it.\n",
    "plt.figure(figsize=(15,20)) \n",
    "        \n",
    "plt.subplot(2,1,1)\n",
    "plt.title(\"Cost heatmap for bias and slope\")\n",
    "\n",
    "plt.contourf(b_x, b_y, np.log(cost_arr_2d), 20, alpha=0.9, cmap=cm.pink)\n",
    "cbar = plt.colorbar()\n",
    "plt.scatter(best_b1, 0, label = \"Best solution without bias\")\n",
    "cbar.ax.set_ylabel('log(cost)')\n",
    "plt.xlabel(\"b1 (slope)\")\n",
    "plt.ylabel(\"b2 (bias)\")\n",
    "plt.legend()\n",
    "\n",
    "plt.subplot(2,1,2)\n",
    "\n",
    "plt.scatter(X.T[0], y_shifted)\n",
    "plt.xlabel(\"living sqft\")\n",
    "plt.ylabel(\"price\")\n",
    "\n",
    "# Now we have to face incompatibilities\n",
    "\n",
    "x_model = np.linspace(np.min(X), np.max(X), 1000) # \n",
    "\n",
    "y_model = b_opt2*x_model\n",
    "plt.plot(x_model, y_model, label='No Bias. Best b1 = {}, error = {:.2E}'.format(b_opt, cost_arr[np.argmin(cost_arr)]))\n",
    "#--------------------------------------------------------------------------------------------------\n",
    "best_b1_2d_ind, best_b2_2d_ind = np.unravel_index(cost_arr_2d.argmin(), cost_arr_2d.shape)\n",
    "best_b1 = b_x[best_b1_2d_ind,best_b2_2d_ind]\n",
    "best_b2 = b_y[best_b1_2d_ind,best_b2_2d_ind]\n",
    "\n",
    "y_model = best_b1 *x_model + best_b2\n",
    "plt.plot(x_model, y_model, label='Best b1 = {}, b2 = {}, error = {:.2E}'.format(b_opt, b_opt2, cost_arr_2d[best_b1_2d_ind,best_b2_2d_ind]))\n",
    "\n",
    "plt.legend()\n",
    "\n",
    "plt.show()"
   ]
  },
  {
   "cell_type": "markdown",
   "metadata": {},
   "source": [
    "**Adding bias improved error by three orders of magnitude. Not bad!**"
   ]
  },
  {
   "cell_type": "markdown",
   "metadata": {},
   "source": [
    "# 3. Standardization\n",
    "\n",
    "In order to improve performance of many machine learning algorithms, the value standardization is applied. It makes the values of each feature in the data have zero-mean and unit-variance. It is achieved by substracting from each value $x$ the overall mean $\\bar{x}$, and then dividing it by feature's standard deviation ${\\sigma}$:\n",
    "\n",
    "$$x' = \\frac{x - \\bar{x}}{\\sigma}. $$\n",
    "\n",
    "It is important to remember, that bias column should not be standardize!\n",
    "\n",
    "## Exercise 3\n",
    "a) Implement function standardize(), which standardize the feature matrix and returns it together with two vectors containing original features' means and standard deviations.  \n",
    "b) Implement function destandardize(), which restores the original data given standardized feature matrix X and vectors containing original features' means and standard deviations.  \n",
    "c) Plot original $X,y$ data. Then plot it after standardization. Then plot it after destandardisation."
   ]
  },
  {
   "cell_type": "code",
   "execution_count": null,
   "metadata": {},
   "outputs": [],
   "source": [
    "X = house_df.sqft_living.values.reshape(-1,1)[:100]\n",
    "y = house_df.price.values.reshape(-1,1)[:100]"
   ]
  },
  {
   "cell_type": "code",
   "execution_count": null,
   "metadata": {},
   "outputs": [],
   "source": [
    "from statistics import stdev\n",
    "#np.mean(X) ok\n",
    "X_stdevflat = X.flatten()\n",
    "X_stdev = stdev(X_flat)"
   ]
  },
  {
   "cell_type": "code",
   "execution_count": null,
   "metadata": {},
   "outputs": [],
   "source": [
    "#a = np.array([[1,2,3],[2,3,4],[4,5,6]])\n",
    "#a[:,0] #array([1, 2, 4])"
   ]
  },
  {
   "cell_type": "code",
   "execution_count": 37,
   "metadata": {},
   "outputs": [],
   "source": [
    "def column(matrix, i):\n",
    "    return [row[i] for row in matrix]"
   ]
  },
  {
   "cell_type": "code",
   "execution_count": 38,
   "metadata": {},
   "outputs": [
    {
     "ename": "NameError",
     "evalue": "name 'X_stdev' is not defined",
     "output_type": "error",
     "traceback": [
      "\u001b[0;31m---------------------------------------------------------------------------\u001b[0m",
      "\u001b[0;31mNameError\u001b[0m                                 Traceback (most recent call last)",
      "\u001b[0;32m<ipython-input-38-1024a9970e21>\u001b[0m in \u001b[0;36m<module>\u001b[0;34m\u001b[0m\n\u001b[1;32m      1\u001b[0m \u001b[0;31m#column(a,1) #[2, 3, 5]\u001b[0m\u001b[0;34m\u001b[0m\u001b[0;34m\u001b[0m\u001b[0m\n\u001b[0;32m----> 2\u001b[0;31m \u001b[0mX_stdev\u001b[0m\u001b[0;34m\u001b[0m\u001b[0m\n\u001b[0m",
      "\u001b[0;31mNameError\u001b[0m: name 'X_stdev' is not defined"
     ]
    }
   ],
   "source": [
    "#column(a,1) #[2, 3, 5]\n",
    "X_stdev"
   ]
  },
  {
   "cell_type": "code",
   "execution_count": 39,
   "metadata": {},
   "outputs": [],
   "source": [
    "meanX = np.mean(X)"
   ]
  },
  {
   "cell_type": "code",
   "execution_count": null,
   "metadata": {},
   "outputs": [],
   "source": []
  },
  {
   "cell_type": "code",
   "execution_count": 40,
   "metadata": {},
   "outputs": [
    {
     "data": {
      "text/plain": [
       "(array([[-1.34164079, -1.63299316, -1.18321596],\n",
       "        [-0.4472136 ,  0.81649658, -0.50709255],\n",
       "        [ 0.4472136 ,  0.        ,  0.16903085],\n",
       "        [ 1.34164079,  0.81649658,  1.52127766]]),\n",
       " array([2.5 , 4.  , 4.75]),\n",
       " array([1.11803399, 1.22474487, 1.47901995]))"
      ]
     },
     "execution_count": 40,
     "metadata": {},
     "output_type": "execute_result"
    }
   ],
   "source": [
    "#a)\n",
    "def standardize(X): \n",
    "    '''\n",
    "    Returns;\n",
    "    ----------------\n",
    "    1.Standarized features\n",
    "    2.Original features means\n",
    "    3.Standard deviations of features\n",
    "    '''\n",
    "    # 2. Original features means\n",
    "    features_means = []\n",
    "    for i in range(len(X[0])):\n",
    "        features_means.append( np.mean(column(X,i)) )\n",
    "    \n",
    "    # 3. Standard deviations of features\n",
    "    features_stdevs = []\n",
    "    for i in range(len(X[0])):\n",
    "        features_stdevs.append( np.std(column(X,i)) )\n",
    "    \n",
    "    # 1. Standdarized features\n",
    "    # Ale musisz zadbac o kazda kolumne - standaryzowac kazda kolumne\n",
    "    stand_X = np.zeros(np.shape(X))\n",
    "    for j in range(len(X[:,0])): # dla kazdego wiersza\n",
    "        \n",
    "        for i in range(len(X[0])):# dla kazdej kolumny\n",
    "            stand_X[j][i] = (X[j][i]-features_means[i])/features_stdevs[i]\n",
    "    \n",
    "    return np.array(stand_X), np.array(features_means), np.array(features_stdevs)\n",
    "\n",
    "# wszystko do pltu 2\n",
    "#b)\n",
    "# Implement function destandardize(), which restores the original data given standardized feature matrix X\n",
    "# and vectors containing original features' means and standard deviations.\n",
    "def destandardize(X, means, sds):\n",
    "    destand_X = np.zeros(np.shape(X))\n",
    "    for j in range(len(X[:,0])): # dla kazdego wiersza\n",
    "        \n",
    "        for i in range(len(X[0])):# dla kazdej kolumny\n",
    "            destand_X[j][i] = (X[j][i]*sds[i])+means[i]\n",
    "    return destand_X\n",
    "\n",
    "\n",
    "#short test:\n",
    "W = np.array([[1,2,3],[2,5,4],[3,4,5],[4,5,7]])\n",
    "standW, mean_f, stdev_f = standardize(W)\n",
    "standardize(W)\n",
    "\n",
    "#Hint: with np.mean and np.std first function is three lines long. The second is one-liner."
   ]
  },
  {
   "cell_type": "code",
   "execution_count": 41,
   "metadata": {},
   "outputs": [
    {
     "data": {
      "text/plain": [
       "array([[1., 2., 3.],\n",
       "       [2., 5., 4.],\n",
       "       [3., 4., 5.],\n",
       "       [4., 5., 7.]])"
      ]
     },
     "execution_count": 41,
     "metadata": {},
     "output_type": "execute_result"
    }
   ],
   "source": [
    "destandardize(standW, mean_f, stdev_f) "
   ]
  },
  {
   "cell_type": "code",
   "execution_count": null,
   "metadata": {},
   "outputs": [],
   "source": [
    "standX, mean_fX, stdev_fX = standardize(X)"
   ]
  },
  {
   "cell_type": "code",
   "execution_count": null,
   "metadata": {},
   "outputs": [],
   "source": [
    "destandX = destandardize(standX, mean_fX, stdev_fX) "
   ]
  },
  {
   "cell_type": "code",
   "execution_count": null,
   "metadata": {},
   "outputs": [],
   "source": [
    "#c)\n",
    "\n",
    "plt.figure(figsize=(15,20)) \n",
    "        \n",
    "plt.subplot(3,1,1)\n",
    "# wszstko do plotu 1\n",
    "plt.xlabel('sqft_living')\n",
    "plt.ylabel('price')\n",
    "plt.title('Original data')\n",
    "plt.scatter(X,y)\n",
    "\n",
    "\n",
    "#----------------------------------------------------------------------------------------------------------------\n",
    "plt.subplot(3,1,2)\n",
    "# wszystko do pltu 2\n",
    "plt.xlabel('sqft_living')\n",
    "plt.ylabel('price')\n",
    "plt.title('Standarized data')\n",
    "plt.scatter(standX, standardize(y)[0])\n",
    "\n",
    "\n",
    "#----------------------------------------------------------------------------------------------------------------\n",
    "plt.subplot(3,1,3)\n",
    "# wszystko do pltu 3\n",
    "plt.xlabel('sqft_living')\n",
    "plt.ylabel('price')\n",
    "plt.title('Restored data')\n",
    "y_pred_stand = [predict(i,b_opt) for i in X]\n",
    "plt.scatter(X,y)\n",
    "\n",
    "#----------------------------------------------------------------------------------------------------------------\n",
    "plt.show()\n"
   ]
  },
  {
   "cell_type": "markdown",
   "metadata": {},
   "source": [
    "## 3. Gradient Descent Method"
   ]
  },
  {
   "cell_type": "markdown",
   "metadata": {},
   "source": [
    "In previous examples we were determining the approximate value of optimal vector **$b$** by finding best arguments from pre-defined grid. This solution is neither fast nor precise. Although in theory it is possible to find vector **$b$** analytically, it requires inversing large matrices, as the close form for **$b$** is $b=(X^\\mathsf{T}X)^{-1}X^\\mathsf{T}y$.\n",
    "\n",
    "The other approach is to find approximation of **$b$** is Gradient Descent Method. Let us recall that for function $f: \\ R^n \\to R$ a gradient \n",
    "\n",
    "$$\\nabla f =  \\begin{bmatrix} \\frac{\\partial f}{\\partial x_1} \\\\ \\vdots \\\\ \\frac{\\partial f}{\\partial x_n} \\end{bmatrix}$$\n",
    "\n",
    "is the direction of the biggest increase of $f$. Using linearity of derivative, $-\\nabla f$ is the direction of the biggest decrease. Gradient Descent Method is based on iterative moving in the direction opposite to gradient, and by these means approaching the minimum.\n",
    "\n",
    "#### GDM step by step:  \n",
    "1. Choose starting point $x_{0}$ and parameters: *learning rate* and *precision*,\n",
    "2. Update $x_{i+1} = x_{i} - \\nabla f(x_{i})\\cdot lr$, where $lr$ is learning rate parameter,\n",
    "3. If $(|\\nabla f(x_{i})| < precision)$, end. If not, go back to point 2.\n",
    "\n",
    "One of many limitations of GMD may be knowledge of function's gradient. Luckily for us, it is quite easy in case of linear regression with mean square error cost function. We have\n",
    "\n",
    "$$ \\nabla f_{y}(b) = \\nabla\\dfrac{|Xb−y|^2}{n} = \\dfrac{2X^\\mathsf{T}(Xb−y)}{n}.  $$\n",
    "\n",
    "## Exercise 4\n",
    "a) Create functions: *gradient()* which computes gradient for linear regresion and *gradient_descent_step()* which returns new vector **b** being the result of one GDM step.  \n",
    "\n",
    "b) Take **$X$** consisting of *sqft_living* together with bias column. Set **$y$** as price. Standardize both **$X$** (without bias) and **$y$**. Plot a heatmap showing dependence of cost function's value on vector **$b$**. Mark first 5 steps of gradient descent with *learning rate* = $0.2$, starting from **$b =  \\begin{bmatrix} 3 \\\\ 2 \\end{bmatrix}$**. Experiment with other *learning rates*.  \n",
    "\n",
    "c) Take **$X$** consisting of *sqft_living* and *sqft_lot*. Set **$y$** as price. Standardize both **$X$** and **$y$**. Plot a heatmap showing dependence of cost function's value on vector **$b$**. Mark first 5 steps of gradient descent with *learning rate* = $0.2$, starting from **$b =  \\begin{bmatrix} 3 \\\\ 1 \\end{bmatrix}$**. Experiment with other *learning rates*.  \n",
    "\n",
    "d) Try to redo above points without standarization. How can you explain such results?\n"
   ]
  },
  {
   "cell_type": "code",
   "execution_count": 28,
   "metadata": {},
   "outputs": [],
   "source": [
    "def gradient(b, X, y):\n",
    "    '''\n",
    "    Computes gradient for linear regression.\n",
    "    '''\n",
    "    # that is gradient of cost function which is calcuated for linear regression model\n",
    "    \n",
    "    return ( 2*np.dot(X.T, np.dot(X,b)-y) )/len(y) # dziala\n",
    "\n",
    "def gradient_descent_step(b, X, y, lr):\n",
    "    '''\n",
    "    Returns:\n",
    "    -----------------------\n",
    "    new_b - found by gradient method\n",
    "    '''\n",
    "    return b - gradient(b,X,y)*lr # to juz sie zajmuje kazdym z wymiarow"
   ]
  },
  {
   "cell_type": "code",
   "execution_count": 29,
   "metadata": {},
   "outputs": [
    {
     "name": "stdout",
     "output_type": "stream",
     "text": [
      "[[49. ]\n",
      " [75.5]\n",
      " [90. ]]\n",
      "[[-3.9 ]\n",
      " [-6.55]\n",
      " [-8.  ]]\n"
     ]
    }
   ],
   "source": [
    "#short test:\n",
    "test_b = np.array([[1],[1],[1]])\n",
    "test_X = np.array([[1,2,3],[2,5,4],[3,4,5],[4,5,7]])\n",
    "test_y = np.array([[1],[2],[3],[4]])\n",
    "\n",
    "print(gradient(test_b, test_X, test_y))\n",
    "print(gradient_descent_step(test_b, test_X, test_y, 0.1))"
   ]
  },
  {
   "cell_type": "markdown",
   "metadata": {},
   "source": [
    "b) Take  𝑋  consisting of sqft_living together with bias column. Set  𝑦  as price. Standardize both  𝑋  (without bias) and  𝑦 . Plot a heatmap showing dependence of cost function's value on vector  𝑏 . Mark first 5 steps of gradient descent with learning rate =  0.2 , starting from  𝑏=[[3],[2]] . Experiment with other learning rates."
   ]
  },
  {
   "cell_type": "code",
   "execution_count": 56,
   "metadata": {},
   "outputs": [],
   "source": [
    "# I hope I understood correctly that we have to make feature marix out of sqft and bias together \n",
    "#Xnew[1]\n",
    "#y\n",
    "# standarize X(without bias - bo po co skoro to 1-ki) and y\n",
    "#standardize(Xnew) # Our function can be used easily to standardize given matirx if we first standardize X col\n",
    "X = house_df.sqft_living.values.reshape(-1,1)[:100]\n",
    "y = house_df.price.values.reshape(-1,1)[:100]"
   ]
  },
  {
   "cell_type": "code",
   "execution_count": 68,
   "metadata": {},
   "outputs": [],
   "source": [
    "X_sqft_stand = standardize(X)[0]\n",
    "n,m = X.shape # for generality\n",
    "X0 = np.ones((n,1))\n",
    "X_stand = np.hstack((X_sqft_stand,X0)) # dobrz\n",
    "y_stand = standardize(y)[0] # dobrz\n",
    "# no ale jak b moze byc jednowymiarowe skoro sa dwie cechy"
   ]
  },
  {
   "cell_type": "markdown",
   "metadata": {},
   "source": [
    " Plot a heatmap showing dependence of cost function's value on vector 𝑏 . Mark first 5 steps of gradient descent with learning rate = 0.2 , starting from 𝑏=[[3],[2]] . Experiment with other learning rates."
   ]
  },
  {
   "cell_type": "code",
   "execution_count": 100,
   "metadata": {},
   "outputs": [],
   "source": [
    "# Ale wpierw ogarnij b jakiego uzywasz\n",
    "# No wlasnie\n",
    "# Sklej b z tego co bedzie nizej, potem to wszystko ladnie posprzataj\n",
    "b1 = np.linspace(-4, 4, num = 100).reshape(-1,1)\n",
    "b2 = np.linspace(-4, 4, num = 100).reshape(-1,1)\n",
    "b = np.hstack((b1,b2))"
   ]
  },
  {
   "cell_type": "code",
   "execution_count": 159,
   "metadata": {},
   "outputs": [
    {
     "data": {
      "text/plain": [
       "array([0.83329164])"
      ]
     },
     "execution_count": 159,
     "metadata": {},
     "output_type": "execute_result"
    }
   ],
   "source": [
    "#bs_cost = np.array(bs_cost).reshape(-1,1)\n",
    "#bs_cost\n",
    "b1_new"
   ]
  },
  {
   "cell_type": "code",
   "execution_count": null,
   "metadata": {},
   "outputs": [],
   "source": []
  },
  {
   "cell_type": "code",
   "execution_count": 184,
   "metadata": {},
   "outputs": [
    {
     "data": {
      "image/png": "[encoded data removed]",
      "text/plain": [
       "<Figure size 1080x720 with 2 Axes>"
      ]
     },
     "metadata": {
      "needs_background": "light"
     },
     "output_type": "display_data"
    }
   ],
   "source": [
    "#b)\n",
    "b_arr = [np.array(b1) for b1 in np.linspace(-1000, 1000, num=2001)]\n",
    "\n",
    "plt.figure(figsize=(15, 10))\n",
    "# przygotoanie do contourf plota\n",
    "dens = 101\n",
    "# wektory b, od ktorych bedzie zalezal cost\n",
    "b0 = np.linspace(-4, 4, num = dens)\n",
    "b1 = np.linspace(-4, 4, num = dens)\n",
    "bx,by = np.meshgrid(b0,b1) #b1,b0\n",
    "\n",
    "# Policz funkcje kosztu w zaleznosci od b\n",
    "# Czy ta funkcja kosztu gdzies juz jest - funkcja kosztu jest zdef tylko raz na poczatku\n",
    "cost_arr_2d = np.zeros((dens,dens))\n",
    "for i in range(dens):\n",
    "    for j in range(dens):\n",
    "        cost_arr_2d[i,j] = cost(predict(np.array([[bx[i,j]], [by[i,j]]]), X_stand) , y_stand)\n",
    "\n",
    "plt.contourf(bx, by, np.log(cost_arr_2d), 20, alpha=0.9, cmap=cm.pink) # 20- density(breaks)\n",
    "b_start = np.array([[3],[2]])\n",
    "cbar = plt.colorbar()\n",
    "cbar.ax.set_ylabel('log(cost)')\n",
    "for i in range(6):\n",
    "    b1_new = b_start[0]\n",
    "    b2_new = b_start[1] \n",
    "    plt.scatter(b1_new, b2_new , color = 'blue')\n",
    "    plt.text(b1_new-0.15, b2_new+0.15, \"w({})\".format(i), fontsize=10 , color = 'blue')\n",
    "    new_b = gradient_descent_step(b_start, X_stand, y_stand, 0.2)\n",
    "    plt.plot([b_start[0],new_b[0]],[b_start[1],new_b[1]], color = 'blue')\n",
    "    b_start = new_b\n",
    "plt.xlabel('b1 (slope)')\n",
    "plt.ylabel('b2 (bias)')\n",
    "plt.show()\n"
   ]
  },
  {
   "cell_type": "markdown",
   "metadata": {},
   "source": [
    "c) Take  𝑋  consisting of sqft_living and sqft_lot. Set  𝑦  as price. Standardize both  𝑋  and  𝑦 . Plot a heatmap showing dependence of cost function's value on vector  𝑏 . Mark first 5 steps of gradient descent with learning rate =  0.2 , starting from  𝑏=[[3],[1]] . Experiment with other learning rates"
   ]
  },
  {
   "cell_type": "code",
   "execution_count": 173,
   "metadata": {},
   "outputs": [],
   "source": [
    "# Wole zaladowac od nowa dla bezpieczenstwa\n",
    "#X = house_df.sqft_living.values.reshape(-1,1)[:100]\n",
    "X_lot = house_df.sqft_lot.values.reshape(-1,1)[:100]\n",
    "#y = house_df.price.values.reshape(-1,1)[:100]\n",
    "# X_stand juz mamy"
   ]
  },
  {
   "cell_type": "code",
   "execution_count": 176,
   "metadata": {},
   "outputs": [],
   "source": [
    "X_lot_stand = standardize(X_lot)[0]\n",
    "X_stand2 = np.hstack((X_sqft_stand,X_lot_stand)) # dobrz\n",
    "#y_stand = standardize(y)[0] # to te… juz jest\n",
    "# no ale jak b moze byc jednowymiarowe skoro sa dwie cechy\n",
    "#X_stand2"
   ]
  },
  {
   "cell_type": "code",
   "execution_count": null,
   "metadata": {},
   "outputs": [],
   "source": [
    "# kod w zasadzie tan sam co poprzednio tylko czym innym go pokarmic"
   ]
  },
  {
   "cell_type": "code",
   "execution_count": null,
   "metadata": {},
   "outputs": [],
   "source": []
  },
  {
   "cell_type": "code",
   "execution_count": 178,
   "metadata": {},
   "outputs": [
    {
     "data": {
      "image/png": "[encoded data removed]",
      "text/plain": [
       "<Figure size 1080x720 with 2 Axes>"
      ]
     },
     "metadata": {
      "needs_background": "light"
     },
     "output_type": "display_data"
    }
   ],
   "source": [
    "#c)\n",
    "b_arr = [np.array(b1) for b1 in np.linspace(-1000, 1000, num=2001)]\n",
    "\n",
    "plt.figure(figsize=(15, 10))\n",
    "# przygotoanie do contourf plota\n",
    "dens = 101\n",
    "# wektory b, od ktorych bedzie zalezal cost\n",
    "b0 = np.linspace(-4, 4, num = dens)\n",
    "b1 = np.linspace(-4, 4, num = dens)\n",
    "bx,by = np.meshgrid(b0,b1) #b1,b0\n",
    "\n",
    "# Policz funkcje kosztu w zaleznosci od b\n",
    "# Czy ta funkcja kosztu gdzies juz jest - funkcja kosztu jest zdef tylko raz na poczatku\n",
    "cost_arr_2d = np.zeros((dens,dens))\n",
    "for i in range(dens):\n",
    "    for j in range(dens):\n",
    "        cost_arr_2d[i,j] = cost(predict(np.array([[bx[i,j]], [by[i,j]]]), X_stand2) , y_stand)\n",
    "\n",
    "plt.contourf(bx, by, np.log(cost_arr_2d), 20, alpha=0.9, cmap=cm.pink) # 20- density(breaks)\n",
    "b_start = np.array([[3],[1]])\n",
    "cbar = plt.colorbar()\n",
    "cbar.ax.set_ylabel('log(cost)')\n",
    "for i in range(6):\n",
    "    b1_new = b_start[0]\n",
    "    b2_new = b_start[1] \n",
    "    plt.scatter(b1_new, b2_new , color = 'blue')\n",
    "    plt.text(b1_new-0.15, b2_new+0.15, \"w({})\".format(i), fontsize=10, color = 'blue')\n",
    "    new_b = gradient_descent_step(b_start, X_stand2, y_stand, 0.2)\n",
    "    plt.plot([b_start[0],new_b[0]],[b_start[1],new_b[1]], color = 'blue')\n",
    "    b_start = new_b\n",
    "plt.xlabel('b1 (slope)')\n",
    "plt.ylabel('b2 (bias)')\n",
    "plt.show()\n",
    "\n"
   ]
  },
  {
   "cell_type": "code",
   "execution_count": 200,
   "metadata": {},
   "outputs": [
    {
     "name": "stdout",
     "output_type": "stream",
     "text": [
      "[0.56209957 1.        ]\n",
      "[2.57e+03 1.00e+00]\n"
     ]
    }
   ],
   "source": [
    "#d) Redion b and c without standarisation\n",
    "print(X_stand[1])\n",
    "print(X[1])\n"
   ]
  },
  {
   "cell_type": "code",
   "execution_count": null,
   "metadata": {},
   "outputs": [],
   "source": []
  },
  {
   "cell_type": "code",
   "execution_count": 201,
   "metadata": {},
   "outputs": [
    {
     "data": {
      "image/png": "[encoded data removed]",
      "text/plain": [
       "<Figure size 1080x720 with 2 Axes>"
      ]
     },
     "metadata": {
      "needs_background": "light"
     },
     "output_type": "display_data"
    }
   ],
   "source": [
    "#b)\n",
    "b_arr = [np.array(b1) for b1 in np.linspace(-1000, 1000, num=2001)]\n",
    "\n",
    "plt.figure(figsize=(15, 10))\n",
    "# przygotoanie do contourf plota\n",
    "dens = 101\n",
    "# wektory b, od ktorych bedzie zalezal cost\n",
    "b0 = np.linspace(-4, 4, num = dens)\n",
    "b1 = np.linspace(-4, 4, num = dens)\n",
    "bx,by = np.meshgrid(b0,b1) #b1,b0\n",
    "\n",
    "# Policz funkcje kosztu w zaleznosci od b\n",
    "# Czy ta funkcja kosztu gdzies juz jest - funkcja kosztu jest zdef tylko raz na poczatku\n",
    "cost_arr_2d = np.zeros((dens,dens))\n",
    "for i in range(dens):\n",
    "    for j in range(dens):\n",
    "        cost_arr_2d[i,j] = cost(predict(np.array([[bx[i,j]], [by[i,j]]]), X),y)\n",
    "\n",
    "plt.contourf(bx, by, np.log(cost_arr_2d), 20, alpha=0.9, cmap=cm.pink) # 20- density(breaks)\n",
    "b_start = np.array([[3],[2]])\n",
    "cbar = plt.colorbar()\n",
    "cbar.ax.set_ylabel('log(cost)')\n",
    "for i in range(6):\n",
    "    b1_new = b_start[0]\n",
    "    b2_new = b_start[1] \n",
    "    plt.scatter(b1_new, b2_new , color = 'blue')\n",
    "    plt.text(b1_new-0.15, b2_new+0.15, \"w({})\".format(i), fontsize=10 , color = 'blue')\n",
    "    new_b = gradient_descent_step(b_start, X , y, 0.2)\n",
    "    plt.plot([b_start[0],new_b[0]],[b_start[1],new_b[1]], color = 'blue')\n",
    "    b_start = new_b\n",
    "plt.xlabel('b1 (slope)')\n",
    "plt.ylabel('b2 (bias)')\n",
    "plt.show()"
   ]
  },
  {
   "cell_type": "code",
   "execution_count": 202,
   "metadata": {},
   "outputs": [],
   "source": [
    "# bez standaryzacji wyglada to okropnie"
   ]
  },
  {
   "cell_type": "code",
   "execution_count": 203,
   "metadata": {},
   "outputs": [
    {
     "data": {
      "image/png": "[encoded data removed]",
      "text/plain": [
       "<Figure size 1080x720 with 2 Axes>"
      ]
     },
     "metadata": {
      "needs_background": "light"
     },
     "output_type": "display_data"
    }
   ],
   "source": [
    "#c)\n",
    "b_arr = [np.array(b1) for b1 in np.linspace(-1000, 1000, num=2001)]\n",
    "\n",
    "plt.figure(figsize=(15, 10))\n",
    "# przygotoanie do contourf plota\n",
    "dens = 101\n",
    "# wektory b, od ktorych bedzie zalezal cost\n",
    "b0 = np.linspace(-4, 4, num = dens)\n",
    "b1 = np.linspace(-4, 4, num = dens)\n",
    "bx,by = np.meshgrid(b0,b1) #b1,b0\n",
    "\n",
    "# Policz funkcje kosztu w zaleznosci od b\n",
    "# Czy ta funkcja kosztu gdzies juz jest - funkcja kosztu jest zdef tylko raz na poczatku\n",
    "cost_arr_2d = np.zeros((dens,dens))\n",
    "for i in range(dens):\n",
    "    for j in range(dens):\n",
    "        cost_arr_2d[i,j] = cost(predict(np.array([[bx[i,j]], [by[i,j]]]), X) , y)\n",
    "\n",
    "plt.contourf(bx, by, np.log(cost_arr_2d), 20, alpha=0.9, cmap=cm.pink) # 20- density(breaks)\n",
    "b_start = np.array([[3],[1]])\n",
    "cbar = plt.colorbar()\n",
    "cbar.ax.set_ylabel('log(cost)')\n",
    "for i in range(6):\n",
    "    b1_new = b_start[0]\n",
    "    b2_new = b_start[1] \n",
    "    plt.scatter(b1_new, b2_new , color = 'blue')\n",
    "    plt.text(b1_new-0.15, b2_new+0.15, \"w({})\".format(i), fontsize=10, color = 'blue')\n",
    "    new_b = gradient_descent_step(b_start, X, y, 0.2)\n",
    "    plt.plot([b_start[0],new_b[0]],[b_start[1],new_b[1]], color = 'blue')\n",
    "    b_start = new_b\n",
    "plt.xlabel('b1 (slope)')\n",
    "plt.ylabel('b2 (bias)')\n",
    "plt.show()"
   ]
  },
  {
   "cell_type": "code",
   "execution_count": null,
   "metadata": {},
   "outputs": [],
   "source": []
  }
 ],
 "metadata": {
  "kernelspec": {
   "display_name": "Python 3",
   "language": "python",
   "name": "python3"
  },
  "language_info": {
   "codemirror_mode": {
    "name": "ipython",
    "version": 3
   },
   "file_extension": ".py",
   "mimetype": "text/x-python",
   "name": "python",
   "nbconvert_exporter": "python",
   "pygments_lexer": "ipython3",
   "version": "3.6.5"
  }
 },
 "nbformat": 4,
 "nbformat_minor": 2
}
